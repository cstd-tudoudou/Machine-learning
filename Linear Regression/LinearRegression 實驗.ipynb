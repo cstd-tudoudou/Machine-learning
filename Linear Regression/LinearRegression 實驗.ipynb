{
 "cells": [
  {
   "cell_type": "markdown",
   "metadata": {
    "deletable": true,
    "editable": true
   },
   "source": [
    "# LinearRegression 实验"
   ]
  },
  {
   "cell_type": "markdown",
   "metadata": {
    "deletable": true,
    "editable": true
   },
   "source": [
    "### 一、原方案計算數據集，使用numpy回歸計算"
   ]
  },
  {
   "cell_type": "code",
   "execution_count": 3,
   "metadata": {
    "collapsed": false,
    "deletable": true,
    "editable": true
   },
   "outputs": [
    {
     "name": "stderr",
     "output_type": "stream",
     "text": [
      "usage: __main__.py [-h] [--batch BATCH] [--epoch EPOCH] [--rate RATE]\n",
      "__main__.py: error: unrecognized arguments: -f /run/user/1000/jupyter/kernel-2da79057-b38f-485f-ad05-1ac8ecebeb6b.json\n"
     ]
    },
    {
     "ename": "SystemExit",
     "evalue": "2",
     "output_type": "error",
     "traceback": [
      "An exception has occurred, use %tb to see the full traceback.\n",
      "\u001b[0;31mSystemExit\u001b[0m\u001b[0;31m:\u001b[0m 2\n"
     ]
    },
    {
     "name": "stderr",
     "output_type": "stream",
     "text": [
      "/home/cgh/.linuxbrew/opt/python3/lib/python3.6/site-packages/IPython/core/interactiveshell.py:2889: UserWarning: To exit: use 'exit', 'quit', or Ctrl-D.\n",
      "  warn(\"To exit: use 'exit', 'quit', or Ctrl-D.\", stacklevel=1)\n"
     ]
    }
   ],
   "source": [
    "#!/usr/bin/env python3\n",
    "\n",
    "import random\n",
    "import argparse\n",
    "import numpy as np\n",
    "\n",
    "\n",
    "# dataset file\n",
    "DATASET_FILE = \"LinearRegressionDataSet_2.txt\"\n",
    "\n",
    "# default learning rate\n",
    "ALPHA = 0.01\n",
    "# default min batch size\n",
    "MIN_BATCH = 200\n",
    "# default learning times\n",
    "LEARNING_TIMES = 4500\n",
    "\n",
    "\n",
    "def generate_min_batch(dataset, batch_size):\n",
    "    \"\"\"\n",
    "    Generate Min Batch.\n",
    "    \"\"\"\n",
    "    dataset_shape = dataset.shape\n",
    "    if dataset_shape[0] < batch_size:\n",
    "        batch_size = dataset_shape[0]\n",
    "\n",
    "    row_indexes = [i for i in range(dataset_shape[0])]\n",
    "    random.shuffle(row_indexes)\n",
    "    random_row_indexes = row_indexes[:batch_size]\n",
    "    hsplit_indice = dataset_shape[1] - 1\n",
    "    random_dataset = (dataset[random_row_indexes, :hsplit_indice],\n",
    "                      dataset[random_row_indexes, hsplit_indice:])\n",
    "    return random_dataset\n",
    "\n",
    "\n",
    "def hypothesis(input_x, θ):\n",
    "    \"\"\"\n",
    "    Hypothesis function 假设函数\n",
    "\n",
    "    hθ(x) = θ.T * x\n",
    "    \"\"\"\n",
    "    res = np.dot(input_x, θ.T)\n",
    "    return res\n",
    "\n",
    "\n",
    "def deviation(input_x, output_y, θ):\n",
    "    \"\"\"\n",
    "    Deviation function 代价/偏差函数\n",
    "    \"\"\"\n",
    "    res = sum([pow(hypothesis(x, θ) - y, 2) for x, y in zip(input_x, output_y)])\n",
    "    return res / (2 * input_x.shape[0])\n",
    "\n",
    "\n",
    "def gradientDescent(dataset, batch_size, learning_rate, learning_times):\n",
    "    print(\"------Start gradient descent------\")\n",
    "    process = 0\n",
    "\n",
    "    hsplit_indice = (dataset.shape)[1] - 1\n",
    "    θ = np.random.rand(1, hsplit_indice)\n",
    "    # print(θ)  # [[ 0.92081042  0.78857252]]\n",
    "    # print(θ.shape)  # (1, 2)\n",
    "\n",
    "    _θ = θ.copy()\n",
    "    while process < learning_times:\n",
    "        batch_data = generate_min_batch(dataset, batch_size)\n",
    "        input_x = batch_data[0]\n",
    "        output_y = batch_data[1]\n",
    "\n",
    "        for i in range(θ.shape[1]):\n",
    "            derivative = np.dot(\n",
    "                (np.array([hypothesis(row, θ) for row in input_x]) - output_y).T,\n",
    "                input_x[:, i:i+1])\n",
    "            avg_derivative = derivative / batch_size\n",
    "            # θ = θ - αJ(θ)'\n",
    "            _θ[0, i] = θ[0, i] - learning_rate * avg_derivative\n",
    "\n",
    "        θ = _θ\n",
    "        # calculate deviation\n",
    "        batch_test_data = generate_min_batch(dataset, batch_size)\n",
    "        current_deviation = deviation(batch_test_data[0], batch_test_data[1], θ)\n",
    "        if (process % 10 == 0):\n",
    "            print(\"step %d, deviation %2f\" % (process, current_deviation))\n",
    "            print(\"θ: %s\" % (θ))\n",
    "        process += 1\n",
    "\n",
    "    print(\"θ value is: %s\" % (θ))\n",
    "    print(\"------End gradient descent------\")\n",
    "\n",
    "\n",
    "if __name__ == \"__main__\":\n",
    "    parser = argparse.ArgumentParser()\n",
    "    parser.add_argument('--batch', type=int, default=MIN_BATCH)\n",
    "    parser.add_argument('--epoch', type=int, default=LEARNING_TIMES)\n",
    "    parser.add_argument('--rate', type=float, default=ALPHA)\n",
    "\n",
    "    args = parser.parse_args()\n",
    "    dataset = np.loadtxt(DATASET_FILE, dtype=np.float64)\n",
    "    gradientDescent(dataset, args.batch, args.rate, args.epoch)"
   ]
  },
  {
   "cell_type": "markdown",
   "metadata": {
    "deletable": true,
    "editable": true
   },
   "source": [
    "### 二、自己的方案"
   ]
  },
  {
   "cell_type": "markdown",
   "metadata": {
    "deletable": true,
    "editable": true
   },
   "source": [
    "#### 1、初步判斷樣本集"
   ]
  },
  {
   "cell_type": "code",
   "execution_count": 4,
   "metadata": {
    "collapsed": false,
    "deletable": true,
    "editable": true
   },
   "outputs": [
    {
     "data": {
      "image/png": "[encoded data removed]",
      "text/plain": [
       "<matplotlib.figure.Figure at 0x7fc377cd64e0>"
      ]
     },
     "metadata": {},
     "output_type": "display_data"
    }
   ],
   "source": [
    "%matplotlib inline\n",
    "import random\n",
    "import numpy as np\n",
    "import matplotlib.pyplot as plt\n",
    "from sklearn.linear_model import LinearRegression\n",
    "\n",
    "DATASET_FILE = \"LinearRegressionDataSet_2.txt\"\n",
    "dataset = np.loadtxt(DATASET_FILE, dtype=np.float64)\n",
    "\n",
    "def Read_txt():\n",
    "    dataset = np.loadtxt(DATASET_FILE, dtype=np.float64)\n",
    "    X = np.zeros((999, 1))\n",
    "    Y = np.zeros((999, 1))\n",
    "    for i in range(999):\n",
    "        X[i] = dataset[i][1]\n",
    "        Y[i] = dataset[i][2]\n",
    "    return X,Y\n",
    "\n",
    "def runplt():\n",
    "    plt.figure()\n",
    "    plt.axis([0, 11, 0, 70])\n",
    "    plt.grid(True)\n",
    "    return plt\n",
    "\n",
    "if __name__==\"__main__\":\n",
    "    plt=runplt()\n",
    "    X,Y=Read_txt()\n",
    "    plt.plot(X, Y,'k.')\n",
    "    plt.show()"
   ]
  },
  {
   "cell_type": "markdown",
   "metadata": {
    "deletable": true,
    "editable": true
   },
   "source": [
    "#### 二、判斷類型並計算"
   ]
  },
  {
   "cell_type": "markdown",
   "metadata": {
    "deletable": true,
    "editable": true
   },
   "source": [
    "由圖可知，此樣本集初步判斷爲一元線性回歸，則套用方程 $$Y=\\Theta _{0}+ \\Theta _{1}X $$ ,並初步計算殘差平方和"
   ]
  },
  {
   "cell_type": "code",
   "execution_count": 5,
   "metadata": {
    "collapsed": false,
    "deletable": true,
    "editable": true
   },
   "outputs": [
    {
     "data": {
      "image/png": "[encoded data removed]",
      "text/plain": [
       "<matplotlib.figure.Figure at 0x7fc376ad8f28>"
      ]
     },
     "metadata": {},
     "output_type": "display_data"
    },
    {
     "name": "stdout",
     "output_type": "stream",
     "text": [
      "殘差平方和: 0.000000\n"
     ]
    }
   ],
   "source": [
    "%matplotlib inline\n",
    "import random\n",
    "import numpy as np\n",
    "import matplotlib.pyplot as plt\n",
    "from sklearn.linear_model import LinearRegression\n",
    "\n",
    "DATASET_FILE = \"LinearRegressionDataSet_2.txt\"\n",
    "dataset = np.loadtxt(DATASET_FILE, dtype=np.float64)\n",
    "\n",
    "def Read_txt():\n",
    "    dataset = np.loadtxt(DATASET_FILE, dtype=np.float64)\n",
    "    X = np.zeros((999, 1))\n",
    "    Y = np.zeros((999, 1))\n",
    "    for i in range(999):\n",
    "        X[i] = dataset[i][1]\n",
    "        Y[i] = dataset[i][2]\n",
    "    return X,Y\n",
    "\n",
    "def show_line(X,Y):\n",
    "    regr = LinearRegression()\n",
    "    regr.fit(X, Y)\n",
    "    plt.scatter(X, Y, color='yellow')\n",
    "    plt.plot(X, regr.predict(X), color='red')\n",
    "    plt.xticks(())\n",
    "    plt.yticks(())\n",
    "    plt.show()\n",
    "    \n",
    "if __name__==\"__main__\":\n",
    "    X,Y=Read_txt()\n",
    "    show_line(X,Y)\n",
    "    model = LinearRegression()\n",
    "    model.fit(X, Y)\n",
    "    print('殘差平方和: %f' % np.mean((model.predict(X) - Y) ** 2))"
   ]
  },
  {
   "cell_type": "markdown",
   "metadata": {
    "deletable": true,
    "editable": true
   },
   "source": [
    "由圖和差值分析可得，可以使用一元回歸方程，由於使用scikit-learn中的LinearRegression估計器判斷殘方差和爲0,故使此計算 $$ \\Theta _{0} 和  \\Theta _{1}  $$ 並繪制圖形"
   ]
  },
  {
   "cell_type": "code",
   "execution_count": 6,
   "metadata": {
    "collapsed": false,
    "deletable": true,
    "editable": true
   },
   "outputs": [
    {
     "name": "stdout",
     "output_type": "stream",
     "text": [
      "Run time 0:00:00.015086\n",
      "Intercept value (Θ0) [ 26.99999998]\n",
      "coefficient (Θ1) [[ 4.00000001]]\n"
     ]
    },
    {
     "data": {
      "image/png": "[encoded data removed]",
      "text/plain": [
       "<matplotlib.figure.Figure at 0x7fc36884b358>"
      ]
     },
     "metadata": {},
     "output_type": "display_data"
    }
   ],
   "source": [
    "%matplotlib inline\n",
    "import numpy as np\n",
    "import matplotlib.pyplot as plt\n",
    "from sklearn.linear_model import LinearRegression\n",
    "import random\n",
    "import datetime\n",
    "\n",
    "DATASET_FILE = \"LinearRegressionDataSet_2.txt\"\n",
    "def Read_txt():\n",
    "    dataset = np.loadtxt(DATASET_FILE, dtype=np.float64)\n",
    "    X = np.zeros((999, 1))\n",
    "    Y = np.zeros((999, 1))\n",
    "    for i in range(0, 999):\n",
    "        X[i] = dataset[i][1]\n",
    "        Y[i] = dataset[i][2]\n",
    "    return X,Y\n",
    "\n",
    "def linear_model_main(X_parameters, Y_parameters, predict_value=0):\n",
    "    # Create linear regression object\n",
    "    regr = LinearRegression()\n",
    "    regr.fit(X_parameters, Y_parameters)\n",
    "    predict_outcome = regr.predict(predict_value)\n",
    "    predictions = {}\n",
    "    predictions['intercept'] = regr.intercept_\n",
    "    predictions['coefficient'] = regr.coef_\n",
    "    predictions['predicted_value'] = predict_outcome\n",
    "    return predictions\n",
    "\n",
    "def show_line(X,Y):\n",
    "    regr = LinearRegression()\n",
    "    regr.fit(X, Y)\n",
    "    plt.scatter(X, Y, color='yellow')\n",
    "    plt.plot(X, regr.predict(X), color='red')\n",
    "    plt.xticks(())\n",
    "    plt.yticks(())\n",
    "    plt.show()\n",
    "\n",
    "if __name__ == \"__main__\":\n",
    "    b=datetime.datetime.now()\n",
    "    X,Y=Read_txt()\n",
    "    result = linear_model_main(X, Y)\n",
    "    e=datetime.datetime.now()\n",
    "    print(\"Run time\",(e-b))\n",
    "    print(\"Intercept value (Θ0)\", result['intercept'])\n",
    "    print(\"coefficient (Θ1)\", result['coefficient'])\n",
    "#     print(\"Predicted value: \", result['predicted_value'])\n",
    "    show_line(X,Y)"
   ]
  },
  {
   "cell_type": "markdown",
   "metadata": {
    "deletable": true,
    "editable": true
   },
   "source": [
    "#### 三、 牛頓法+梯度下降（牛頓發由於無法正確模擬，故採用梯度下降輔助計算）（未知不正確）（存在未知錯誤）"
   ]
  },
  {
   "cell_type": "code",
   "execution_count": 7,
   "metadata": {
    "collapsed": false,
    "deletable": true,
    "editable": true
   },
   "outputs": [
    {
     "name": "stderr",
     "output_type": "stream",
     "text": [
      "usage: __main__.py [-h] [--batch BATCH] [--epoch EPOCH] [--rate RATE]\n",
      "__main__.py: error: unrecognized arguments: -f /run/user/1000/jupyter/kernel-2da79057-b38f-485f-ad05-1ac8ecebeb6b.json\n"
     ]
    },
    {
     "ename": "SystemExit",
     "evalue": "2",
     "output_type": "error",
     "traceback": [
      "An exception has occurred, use %tb to see the full traceback.\n",
      "\u001b[0;31mSystemExit\u001b[0m\u001b[0;31m:\u001b[0m 2\n"
     ]
    },
    {
     "name": "stderr",
     "output_type": "stream",
     "text": [
      "/home/cgh/.linuxbrew/opt/python3/lib/python3.6/site-packages/IPython/core/interactiveshell.py:2889: UserWarning: To exit: use 'exit', 'quit', or Ctrl-D.\n",
      "  warn(\"To exit: use 'exit', 'quit', or Ctrl-D.\", stacklevel=1)\n"
     ]
    }
   ],
   "source": [
    "#!/usr/bin/env python3\n",
    "\n",
    "import random\n",
    "import argparse\n",
    "import numpy as np\n",
    "\n",
    "\n",
    "# dataset file\n",
    "DATASET_FILE = \"LinearRegressionDataSet_2.txt\"\n",
    "\n",
    "# default learning rate\n",
    "ALPHA = 0.06\n",
    "# default min batch size\n",
    "MIN_BATCH = 200\n",
    "# default learning times  \n",
    "LEARNING_TIMES = 200\n",
    "\n",
    "\n",
    "\n",
    "\n",
    "def generate_min_batch(dataset, batch_size):\n",
    "    dataset_shape = dataset.shape\n",
    "    if dataset_shape[0] < batch_size:\n",
    "        batch_size = dataset_shape[0]\n",
    "    row_indexes = [i for i in range(dataset_shape[0])]\n",
    "    random.shuffle(row_indexes)\n",
    "    random_row_indexes = row_indexes[:batch_size]\n",
    "    hsplit_indice = dataset_shape[1] - 1\n",
    "    random_dataset = (dataset[random_row_indexes, :hsplit_indice],\n",
    "                      dataset[random_row_indexes, hsplit_indice:])\n",
    "    return random_dataset\n",
    "\n",
    "\n",
    "def hypothesis(input_x, θ):\n",
    "    res = np.dot(input_x, θ.T)\n",
    "    return res\n",
    "\n",
    "\n",
    "def deviation(input_x, output_y, θ):\n",
    "    res = sum([pow(hypothesis(x, θ) - y, 2) for x, y in zip(input_x, output_y)])\n",
    "    return res / (2 * input_x.shape[0])\n",
    "\n",
    "\n",
    "# 獨立的海森函數（未知錯誤）\n",
    "# def hession(input_x,θ):\n",
    "#     for i in range(θ.shape[1]):\n",
    "#         res=np.dot(\n",
    "#             (np.array([hypothesis(row, θ) for row in input_x])),\n",
    "#             (1-(np.array([hypothesis(row, θ) for row in input_x]))))\n",
    "#         res=np.dot(res,\n",
    "#                    input_x[:, i:i+1])\n",
    "#         res=np.dot(res,\n",
    "#                    np.transpose(input_x[:,i:i+1]))\n",
    "#     print(res)\n",
    "#     return np.linalg.inv(res)\n",
    "\n",
    "def gradientDescent(dataset, batch_size, learning_rate, learning_times):\n",
    "    print(\"------Start gradient descent------\")\n",
    "    process = 0\n",
    "    FI=0\n",
    "    hsplit_indice = (dataset.shape)[1] - 1\n",
    "    θ = np.random.rand(1, hsplit_indice)\n",
    "\n",
    "    _θ = θ.copy()\n",
    "    while process < learning_times:\n",
    "        batch_data = generate_min_batch(dataset, batch_size)\n",
    "        input_x = batch_data[0]\n",
    "        output_y = batch_data[1]\n",
    "\n",
    "        if FI==0:\n",
    "            for a in range(20):\n",
    "                for i in range(θ.shape[1]):\n",
    "                    derivative = np.dot(\n",
    "                        (np.array([hypothesis(row, θ) for row in input_x]) - output_y).T,\n",
    "                        input_x[:, i:i + 1])\n",
    "                    avg_derivative = derivative / batch_size\n",
    "                    # θ = θ - αJ(θ)'\n",
    "                    _θ[0, i] = θ[0, i] - learning_rate * avg_derivative\n",
    "                θ = _θ\n",
    "        # 牛頓法 由於直接使用牛頓法無法正確收斂，故採用梯度計算輔助牛頓法\n",
    "        for i in range(θ.shape[1]):\n",
    "            derivative = np.dot(\n",
    "                (np.array([hypothesis(row, θ) for row in input_x]) - output_y).T,\n",
    "                input_x[:, i:i + 1])\n",
    "            avg_derivative = derivative / batch_size\n",
    "            # 海森矩陣（位置錯誤）\n",
    "            h2 = np.dot((np.multiply((np.reshape((input_x[:, 0]).T,\n",
    "                                                (MIN_BATCH, 1)) - np.array([hypothesis(row, θ) for row in input_x])),\n",
    "                                    input_x[:, i:i + 1])).T,\n",
    "                        (np.reshape((input_x[:, 0]).T,\n",
    "                                    (MIN_BATCH, 1))))\n",
    "            h3 = (np.array([hypothesis(row, θ) for row in input_x])) * h2\n",
    "            hession = 0\n",
    "            for z in range(batch_size):\n",
    "                hession += h3[z][0]\n",
    "            Hession = hession / batch_size\n",
    "            _θ[0, i] = θ[0, i] - avg_derivative / Hession\n",
    "        F=1\n",
    "        θ = _θ\n",
    "        # calculate deviation\n",
    "        batch_test_data = generate_min_batch(dataset, batch_size)\n",
    "        current_deviation = deviation(batch_test_data[0], batch_test_data[1], θ)\n",
    "        if (process % 10 == 0):\n",
    "            print(\"step %d, deviation %2f\" % (process, current_deviation))\n",
    "            print(\"θ: %s\" % (θ))\n",
    "        process += 1\n",
    "        # 輔助快速判斷是否學習完成\n",
    "        # if current_deviation<1e-11:\n",
    "        #     break\n",
    "\n",
    "    print(\"θ value is: %s\" % (θ))\n",
    "    print(\"------End gradient descent------\")\n",
    "\n",
    "if __name__ == \"__main__\":\n",
    "    parser = argparse.ArgumentParser()\n",
    "    parser.add_argument('--batch', type=int, default=MIN_BATCH)\n",
    "    parser.add_argument('--epoch', type=int, default=LEARNING_TIMES)\n",
    "    parser.add_argument('--rate', type=float, default=ALPHA)\n",
    "\n",
    "    args = parser.parse_args()\n",
    "    dataset = np.loadtxt(DATASET_FILE, dtype=np.float64)\n",
    "    gradientDescent(dataset, args.batch, args.rate, args.epoch)"
   ]
  },
  {
   "cell_type": "markdown",
   "metadata": {
    "deletable": true,
    "editable": true
   },
   "source": [
    "由此結束"
   ]
  },
  {
   "cell_type": "markdown",
   "metadata": {
    "deletable": true,
    "editable": true
   },
   "source": [
    "補充：\n",
    "LinearRegression\n",
    "　　　　损失函数：\n",
    "\n",
    "　　　　LinearRegression类就是我们平时说的最常见普通的线性回归，它的损失函数也是最简单的，如下：\n",
    "\n",
    "　　　　J(θ)=12(Xθ−Y)T(Xθ−Y)J(θ)=12(Xθ−Y)T(Xθ−Y)\n",
    "　　　　损失函数的优化方法：\n",
    "\n",
    "　　　　对于这个损失函数，一般有梯度下降法和最小二乘法两种极小化损失函数的优化方法，而scikit中的LinearRegression类用的是最小二乘法。通过最小二乘法，可以解出线性回归系数θθ为：\n",
    "\n",
    "　　　　θ=(XTX)−1XTYθ=(XTX)−1XTY\n",
    "　　　　验证方法：\n",
    "\n",
    "　　　　LinearRegression类并没有用到交叉验证之类的验证方法，需要我们自己把数据集分成训练集和测试集，然后训练优化。"
   ]
  }
 ],
 "metadata": {
  "celltoolbar": "Raw Cell Format",
  "kernelspec": {
   "display_name": "Python 3",
   "language": "python",
   "name": "python3"
  },
  "language_info": {
   "codemirror_mode": {
    "name": "ipython",
    "version": 3
   },
   "file_extension": ".py",
   "mimetype": "text/x-python",
   "name": "python",
   "nbconvert_exporter": "python",
   "pygments_lexer": "ipython3",
   "version": "3.6.0"
  }
 },
 "nbformat": 4,
 "nbformat_minor": 2
}
